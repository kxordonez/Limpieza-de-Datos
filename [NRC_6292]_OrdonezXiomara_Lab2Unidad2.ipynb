{
 "cells": [
  {
   "cell_type": "markdown",
   "id": "ed7fad31",
   "metadata": {},
   "source": [
    "# Laboratorio 2: Limpieza de datos"
   ]
  },
  {
   "cell_type": "markdown",
   "id": "2e396b14",
   "metadata": {},
   "source": [
    "# Librerias"
   ]
  },
  {
   "cell_type": "code",
   "execution_count": 1,
   "id": "c2f20204",
   "metadata": {},
   "outputs": [],
   "source": [
    "'''NumPy es una librería para el cálculo numérico y el análisis de datos'''\n",
    "import numpy as np\n",
    "'''Pandas para el análisis y manipulación de datos'''\n",
    "import pandas as pd\n",
    "'''El módulo csv para leer y escribir datos tabulares en formato CSV'''\n",
    "import csv"
   ]
  },
  {
   "cell_type": "markdown",
   "id": "d9f1825a",
   "metadata": {},
   "source": [
    "# Lectura del Dataset Criminología"
   ]
  },
  {
   "cell_type": "code",
   "execution_count": 2,
   "id": "d9cf8cc5",
   "metadata": {
    "scrolled": true
   },
   "outputs": [
    {
     "data": {
      "text/html": [
       "<div>\n",
       "<style scoped>\n",
       "    .dataframe tbody tr th:only-of-type {\n",
       "        vertical-align: middle;\n",
       "    }\n",
       "\n",
       "    .dataframe tbody tr th {\n",
       "        vertical-align: top;\n",
       "    }\n",
       "\n",
       "    .dataframe thead th {\n",
       "        text-align: right;\n",
       "    }\n",
       "</style>\n",
       "<table border=\"1\" class=\"dataframe\">\n",
       "  <thead>\n",
       "    <tr style=\"text-align: right;\">\n",
       "      <th></th>\n",
       "      <th>CrimeId</th>\n",
       "      <th>OriginalCrimeTypeName</th>\n",
       "      <th>OffenseDate</th>\n",
       "      <th>CallTime</th>\n",
       "      <th>CallDateTime</th>\n",
       "      <th>Disposition</th>\n",
       "      <th>Address</th>\n",
       "      <th>City</th>\n",
       "      <th>State</th>\n",
       "      <th>AgencyId</th>\n",
       "      <th>Range</th>\n",
       "      <th>AddressType</th>\n",
       "    </tr>\n",
       "  </thead>\n",
       "  <tbody>\n",
       "    <tr>\n",
       "      <th>0</th>\n",
       "      <td>160903280</td>\n",
       "      <td>Assault / Battery</td>\n",
       "      <td>2016-03-30T00:00:00</td>\n",
       "      <td>18:42</td>\n",
       "      <td>2016-03-30T18:42:00</td>\n",
       "      <td>REP</td>\n",
       "      <td>100 Block Of Chilton Av</td>\n",
       "      <td>San Francisco</td>\n",
       "      <td>CA</td>\n",
       "      <td>1</td>\n",
       "      <td>NaN</td>\n",
       "      <td>Premise Address</td>\n",
       "    </tr>\n",
       "    <tr>\n",
       "      <th>1</th>\n",
       "      <td>160912272</td>\n",
       "      <td>Homeless Complaint</td>\n",
       "      <td>2016-03-31T00:00:00</td>\n",
       "      <td>15:31</td>\n",
       "      <td>2016-03-31T15:31:00</td>\n",
       "      <td>GOA</td>\n",
       "      <td>2300 Block Of Market St</td>\n",
       "      <td>San Francisco</td>\n",
       "      <td>CA</td>\n",
       "      <td>1</td>\n",
       "      <td>NaN</td>\n",
       "      <td>Premise Address</td>\n",
       "    </tr>\n",
       "    <tr>\n",
       "      <th>2</th>\n",
       "      <td>160912590</td>\n",
       "      <td>Susp Info</td>\n",
       "      <td>2016-03-31T00:00:00</td>\n",
       "      <td>16:49</td>\n",
       "      <td>2016-03-31T16:49:00</td>\n",
       "      <td>GOA</td>\n",
       "      <td>2300 Block Of Market St</td>\n",
       "      <td>San Francisco</td>\n",
       "      <td>CA</td>\n",
       "      <td>1</td>\n",
       "      <td>NaN</td>\n",
       "      <td>Premise Address</td>\n",
       "    </tr>\n",
       "    <tr>\n",
       "      <th>3</th>\n",
       "      <td>160912801</td>\n",
       "      <td>Report</td>\n",
       "      <td>2016-03-31T00:00:00</td>\n",
       "      <td>17:38</td>\n",
       "      <td>2016-03-31T17:38:00</td>\n",
       "      <td>GOA</td>\n",
       "      <td>500 Block Of 7th St</td>\n",
       "      <td>San Francisco</td>\n",
       "      <td>CA</td>\n",
       "      <td>1</td>\n",
       "      <td>NaN</td>\n",
       "      <td>Premise Address</td>\n",
       "    </tr>\n",
       "    <tr>\n",
       "      <th>4</th>\n",
       "      <td>160912811</td>\n",
       "      <td>594</td>\n",
       "      <td>2016-03-31T00:00:00</td>\n",
       "      <td>17:42</td>\n",
       "      <td>2016-03-31T17:42:00</td>\n",
       "      <td>REP</td>\n",
       "      <td>Beale St/bryant St</td>\n",
       "      <td>San Francisco</td>\n",
       "      <td>CA</td>\n",
       "      <td>1</td>\n",
       "      <td>NaN</td>\n",
       "      <td>Intersection</td>\n",
       "    </tr>\n",
       "    <tr>\n",
       "      <th>...</th>\n",
       "      <td>...</td>\n",
       "      <td>...</td>\n",
       "      <td>...</td>\n",
       "      <td>...</td>\n",
       "      <td>...</td>\n",
       "      <td>...</td>\n",
       "      <td>...</td>\n",
       "      <td>...</td>\n",
       "      <td>...</td>\n",
       "      <td>...</td>\n",
       "      <td>...</td>\n",
       "      <td>...</td>\n",
       "    </tr>\n",
       "    <tr>\n",
       "      <th>10046</th>\n",
       "      <td>160964210</td>\n",
       "      <td>Well Being Check</td>\n",
       "      <td>2016-04-05T00:00:00</td>\n",
       "      <td>23:38</td>\n",
       "      <td>2016-04-05T23:38:00</td>\n",
       "      <td>GOA</td>\n",
       "      <td>Hollister Av/hawes St</td>\n",
       "      <td>San Francisco</td>\n",
       "      <td>CA</td>\n",
       "      <td>1</td>\n",
       "      <td>NaN</td>\n",
       "      <td>Intersection</td>\n",
       "    </tr>\n",
       "    <tr>\n",
       "      <th>10047</th>\n",
       "      <td>160964216</td>\n",
       "      <td>Traffic Stop</td>\n",
       "      <td>2016-04-05T00:00:00</td>\n",
       "      <td>23:43</td>\n",
       "      <td>2016-04-05T23:43:00</td>\n",
       "      <td>ADV</td>\n",
       "      <td>California St/mason St</td>\n",
       "      <td>San Francisco</td>\n",
       "      <td>CA</td>\n",
       "      <td>1</td>\n",
       "      <td>NaN</td>\n",
       "      <td>Intersection</td>\n",
       "    </tr>\n",
       "    <tr>\n",
       "      <th>10048</th>\n",
       "      <td>160964227</td>\n",
       "      <td>Traffic Stop</td>\n",
       "      <td>2016-04-05T00:00:00</td>\n",
       "      <td>23:48</td>\n",
       "      <td>2016-04-05T23:48:00</td>\n",
       "      <td>CIT</td>\n",
       "      <td>Rosella Ct/onondaga Av</td>\n",
       "      <td>San Francisco</td>\n",
       "      <td>CA</td>\n",
       "      <td>1</td>\n",
       "      <td>NaN</td>\n",
       "      <td>Intersection</td>\n",
       "    </tr>\n",
       "    <tr>\n",
       "      <th>10049</th>\n",
       "      <td>160964229</td>\n",
       "      <td>Passing Call</td>\n",
       "      <td>2016-04-05T00:00:00</td>\n",
       "      <td>23:48</td>\n",
       "      <td>2016-04-05T23:48:00</td>\n",
       "      <td>Not recorded</td>\n",
       "      <td>0 Blk Herbst Rd</td>\n",
       "      <td>San Francisco</td>\n",
       "      <td>CA</td>\n",
       "      <td>1</td>\n",
       "      <td>NaN</td>\n",
       "      <td>Geo-Override</td>\n",
       "    </tr>\n",
       "    <tr>\n",
       "      <th>10050</th>\n",
       "      <td>160964249</td>\n",
       "      <td>Traffic Stop</td>\n",
       "      <td>2016-04-05T00:00:00</td>\n",
       "      <td>23:54</td>\n",
       "      <td>2016-04-05T23:54:00</td>\n",
       "      <td>ADV</td>\n",
       "      <td>Grant Av/geary St</td>\n",
       "      <td>San Francisco</td>\n",
       "      <td>CA</td>\n",
       "      <td>1</td>\n",
       "      <td>NaN</td>\n",
       "      <td>Intersection</td>\n",
       "    </tr>\n",
       "  </tbody>\n",
       "</table>\n",
       "<p>10051 rows × 12 columns</p>\n",
       "</div>"
      ],
      "text/plain": [
       "         CrimeId OriginalCrimeTypeName          OffenseDate CallTime  \\\n",
       "0      160903280     Assault / Battery  2016-03-30T00:00:00    18:42   \n",
       "1      160912272    Homeless Complaint  2016-03-31T00:00:00    15:31   \n",
       "2      160912590             Susp Info  2016-03-31T00:00:00    16:49   \n",
       "3      160912801                Report  2016-03-31T00:00:00    17:38   \n",
       "4      160912811                   594  2016-03-31T00:00:00    17:42   \n",
       "...          ...                   ...                  ...      ...   \n",
       "10046  160964210      Well Being Check  2016-04-05T00:00:00    23:38   \n",
       "10047  160964216          Traffic Stop  2016-04-05T00:00:00    23:43   \n",
       "10048  160964227          Traffic Stop  2016-04-05T00:00:00    23:48   \n",
       "10049  160964229          Passing Call  2016-04-05T00:00:00    23:48   \n",
       "10050  160964249          Traffic Stop  2016-04-05T00:00:00    23:54   \n",
       "\n",
       "              CallDateTime   Disposition                  Address  \\\n",
       "0      2016-03-30T18:42:00           REP  100 Block Of Chilton Av   \n",
       "1      2016-03-31T15:31:00           GOA  2300 Block Of Market St   \n",
       "2      2016-03-31T16:49:00           GOA  2300 Block Of Market St   \n",
       "3      2016-03-31T17:38:00           GOA      500 Block Of 7th St   \n",
       "4      2016-03-31T17:42:00           REP       Beale St/bryant St   \n",
       "...                    ...           ...                      ...   \n",
       "10046  2016-04-05T23:38:00           GOA    Hollister Av/hawes St   \n",
       "10047  2016-04-05T23:43:00           ADV   California St/mason St   \n",
       "10048  2016-04-05T23:48:00           CIT   Rosella Ct/onondaga Av   \n",
       "10049  2016-04-05T23:48:00  Not recorded          0 Blk Herbst Rd   \n",
       "10050  2016-04-05T23:54:00           ADV        Grant Av/geary St   \n",
       "\n",
       "                City State AgencyId  Range      AddressType  \n",
       "0      San Francisco    CA        1    NaN  Premise Address  \n",
       "1      San Francisco    CA        1    NaN  Premise Address  \n",
       "2      San Francisco    CA        1    NaN  Premise Address  \n",
       "3      San Francisco    CA        1    NaN  Premise Address  \n",
       "4      San Francisco    CA        1    NaN     Intersection  \n",
       "...              ...   ...      ...    ...              ...  \n",
       "10046  San Francisco    CA        1    NaN     Intersection  \n",
       "10047  San Francisco    CA        1    NaN     Intersection  \n",
       "10048  San Francisco    CA        1    NaN     Intersection  \n",
       "10049  San Francisco    CA        1    NaN     Geo-Override  \n",
       "10050  San Francisco    CA        1    NaN     Intersection  \n",
       "\n",
       "[10051 rows x 12 columns]"
      ]
     },
     "execution_count": 2,
     "metadata": {},
     "output_type": "execute_result"
    }
   ],
   "source": [
    "'''Carga del dataset Criminology mediante la libreía Pandas '''\n",
    "df = pd.read_csv('Criminology.csv', sep=';')\n",
    "'''Lectura del encabezado del dataset Criminology'''\n",
    "df"
   ]
  },
  {
   "cell_type": "markdown",
   "id": "5abd9b17",
   "metadata": {},
   "source": [
    "## Información de cada columna\n",
    "Se observa la información de cada columna con ello se procede a identificar los valores y el total de registro que posee cada columna. Alguna columnas como City, State y Range no tienen el valor total de registro que es 10051. "
   ]
  },
  {
   "cell_type": "code",
   "execution_count": 3,
   "id": "d696a351",
   "metadata": {},
   "outputs": [
    {
     "name": "stdout",
     "output_type": "stream",
     "text": [
      "<class 'pandas.core.frame.DataFrame'>\n",
      "RangeIndex: 10051 entries, 0 to 10050\n",
      "Data columns (total 12 columns):\n",
      " #   Column                 Non-Null Count  Dtype  \n",
      "---  ------                 --------------  -----  \n",
      " 0   CrimeId                10051 non-null  int64  \n",
      " 1   OriginalCrimeTypeName  10051 non-null  object \n",
      " 2   OffenseDate            10051 non-null  object \n",
      " 3   CallTime               10051 non-null  object \n",
      " 4   CallDateTime           10051 non-null  object \n",
      " 5   Disposition            10051 non-null  object \n",
      " 6   Address                10051 non-null  object \n",
      " 7   City                   9730 non-null   object \n",
      " 8   State                  10048 non-null  object \n",
      " 9   AgencyId               10051 non-null  object \n",
      " 10  Range                  0 non-null      float64\n",
      " 11  AddressType            10051 non-null  object \n",
      "dtypes: float64(1), int64(1), object(10)\n",
      "memory usage: 942.4+ KB\n"
     ]
    }
   ],
   "source": [
    "'''Información de que tiene cada columna'''\n",
    "df.info()"
   ]
  },
  {
   "cell_type": "markdown",
   "id": "b81955bf",
   "metadata": {},
   "source": [
    "### Verificación de valores NULOS\n",
    "Se procede a observar los valores nulos para tenerse en cuenta al momento de empezar a realizar la limpieza"
   ]
  },
  {
   "cell_type": "code",
   "execution_count": 4,
   "id": "dc2b9378",
   "metadata": {},
   "outputs": [
    {
     "data": {
      "text/plain": [
       "CrimeId                      0\n",
       "OriginalCrimeTypeName        0\n",
       "OffenseDate                  0\n",
       "CallTime                     0\n",
       "CallDateTime                 0\n",
       "Disposition                  0\n",
       "Address                      0\n",
       "City                       321\n",
       "State                        3\n",
       "AgencyId                     0\n",
       "Range                    10051\n",
       "AddressType                  0\n",
       "dtype: int64"
      ]
     },
     "execution_count": 4,
     "metadata": {},
     "output_type": "execute_result"
    }
   ],
   "source": [
    "'''Total de valores nulos en cada columna'''\n",
    "df.isnull().sum()"
   ]
  },
  {
   "cell_type": "markdown",
   "id": "878212c8",
   "metadata": {},
   "source": [
    "# Limpieza de datos\n",
    "Para la limpieza de datos se procede a verificar que sean unicos. Se procede a relizar una acción con los datos que no tienen sentido para el dataset. Se va a ir examinando cada columna para verificar que esten correctas."
   ]
  },
  {
   "cell_type": "markdown",
   "id": "e96590ff",
   "metadata": {},
   "source": [
    "# Primer problema\n",
    "#### Columna Range\n",
    "La columna Range es una columna vacia, es decir, con valores nulos por lo tanto no es necesaria para el Dataset. Con ello se procede a ser eliminada. Esta columna ocupa espacio innecesario en el Dataset."
   ]
  },
  {
   "cell_type": "code",
   "execution_count": 5,
   "id": "5d20d127",
   "metadata": {},
   "outputs": [
    {
     "data": {
      "text/html": [
       "<div>\n",
       "<style scoped>\n",
       "    .dataframe tbody tr th:only-of-type {\n",
       "        vertical-align: middle;\n",
       "    }\n",
       "\n",
       "    .dataframe tbody tr th {\n",
       "        vertical-align: top;\n",
       "    }\n",
       "\n",
       "    .dataframe thead th {\n",
       "        text-align: right;\n",
       "    }\n",
       "</style>\n",
       "<table border=\"1\" class=\"dataframe\">\n",
       "  <thead>\n",
       "    <tr style=\"text-align: right;\">\n",
       "      <th></th>\n",
       "      <th>CrimeId</th>\n",
       "      <th>OriginalCrimeTypeName</th>\n",
       "      <th>OffenseDate</th>\n",
       "      <th>CallTime</th>\n",
       "      <th>CallDateTime</th>\n",
       "      <th>Disposition</th>\n",
       "      <th>Address</th>\n",
       "      <th>City</th>\n",
       "      <th>State</th>\n",
       "      <th>AgencyId</th>\n",
       "      <th>AddressType</th>\n",
       "    </tr>\n",
       "  </thead>\n",
       "  <tbody>\n",
       "    <tr>\n",
       "      <th>0</th>\n",
       "      <td>160903280</td>\n",
       "      <td>Assault / Battery</td>\n",
       "      <td>2016-03-30T00:00:00</td>\n",
       "      <td>18:42</td>\n",
       "      <td>2016-03-30T18:42:00</td>\n",
       "      <td>REP</td>\n",
       "      <td>100 Block Of Chilton Av</td>\n",
       "      <td>San Francisco</td>\n",
       "      <td>CA</td>\n",
       "      <td>1</td>\n",
       "      <td>Premise Address</td>\n",
       "    </tr>\n",
       "    <tr>\n",
       "      <th>1</th>\n",
       "      <td>160912272</td>\n",
       "      <td>Homeless Complaint</td>\n",
       "      <td>2016-03-31T00:00:00</td>\n",
       "      <td>15:31</td>\n",
       "      <td>2016-03-31T15:31:00</td>\n",
       "      <td>GOA</td>\n",
       "      <td>2300 Block Of Market St</td>\n",
       "      <td>San Francisco</td>\n",
       "      <td>CA</td>\n",
       "      <td>1</td>\n",
       "      <td>Premise Address</td>\n",
       "    </tr>\n",
       "    <tr>\n",
       "      <th>2</th>\n",
       "      <td>160912590</td>\n",
       "      <td>Susp Info</td>\n",
       "      <td>2016-03-31T00:00:00</td>\n",
       "      <td>16:49</td>\n",
       "      <td>2016-03-31T16:49:00</td>\n",
       "      <td>GOA</td>\n",
       "      <td>2300 Block Of Market St</td>\n",
       "      <td>San Francisco</td>\n",
       "      <td>CA</td>\n",
       "      <td>1</td>\n",
       "      <td>Premise Address</td>\n",
       "    </tr>\n",
       "    <tr>\n",
       "      <th>3</th>\n",
       "      <td>160912801</td>\n",
       "      <td>Report</td>\n",
       "      <td>2016-03-31T00:00:00</td>\n",
       "      <td>17:38</td>\n",
       "      <td>2016-03-31T17:38:00</td>\n",
       "      <td>GOA</td>\n",
       "      <td>500 Block Of 7th St</td>\n",
       "      <td>San Francisco</td>\n",
       "      <td>CA</td>\n",
       "      <td>1</td>\n",
       "      <td>Premise Address</td>\n",
       "    </tr>\n",
       "    <tr>\n",
       "      <th>4</th>\n",
       "      <td>160912811</td>\n",
       "      <td>594</td>\n",
       "      <td>2016-03-31T00:00:00</td>\n",
       "      <td>17:42</td>\n",
       "      <td>2016-03-31T17:42:00</td>\n",
       "      <td>REP</td>\n",
       "      <td>Beale St/bryant St</td>\n",
       "      <td>San Francisco</td>\n",
       "      <td>CA</td>\n",
       "      <td>1</td>\n",
       "      <td>Intersection</td>\n",
       "    </tr>\n",
       "    <tr>\n",
       "      <th>...</th>\n",
       "      <td>...</td>\n",
       "      <td>...</td>\n",
       "      <td>...</td>\n",
       "      <td>...</td>\n",
       "      <td>...</td>\n",
       "      <td>...</td>\n",
       "      <td>...</td>\n",
       "      <td>...</td>\n",
       "      <td>...</td>\n",
       "      <td>...</td>\n",
       "      <td>...</td>\n",
       "    </tr>\n",
       "    <tr>\n",
       "      <th>10046</th>\n",
       "      <td>160964210</td>\n",
       "      <td>Well Being Check</td>\n",
       "      <td>2016-04-05T00:00:00</td>\n",
       "      <td>23:38</td>\n",
       "      <td>2016-04-05T23:38:00</td>\n",
       "      <td>GOA</td>\n",
       "      <td>Hollister Av/hawes St</td>\n",
       "      <td>San Francisco</td>\n",
       "      <td>CA</td>\n",
       "      <td>1</td>\n",
       "      <td>Intersection</td>\n",
       "    </tr>\n",
       "    <tr>\n",
       "      <th>10047</th>\n",
       "      <td>160964216</td>\n",
       "      <td>Traffic Stop</td>\n",
       "      <td>2016-04-05T00:00:00</td>\n",
       "      <td>23:43</td>\n",
       "      <td>2016-04-05T23:43:00</td>\n",
       "      <td>ADV</td>\n",
       "      <td>California St/mason St</td>\n",
       "      <td>San Francisco</td>\n",
       "      <td>CA</td>\n",
       "      <td>1</td>\n",
       "      <td>Intersection</td>\n",
       "    </tr>\n",
       "    <tr>\n",
       "      <th>10048</th>\n",
       "      <td>160964227</td>\n",
       "      <td>Traffic Stop</td>\n",
       "      <td>2016-04-05T00:00:00</td>\n",
       "      <td>23:48</td>\n",
       "      <td>2016-04-05T23:48:00</td>\n",
       "      <td>CIT</td>\n",
       "      <td>Rosella Ct/onondaga Av</td>\n",
       "      <td>San Francisco</td>\n",
       "      <td>CA</td>\n",
       "      <td>1</td>\n",
       "      <td>Intersection</td>\n",
       "    </tr>\n",
       "    <tr>\n",
       "      <th>10049</th>\n",
       "      <td>160964229</td>\n",
       "      <td>Passing Call</td>\n",
       "      <td>2016-04-05T00:00:00</td>\n",
       "      <td>23:48</td>\n",
       "      <td>2016-04-05T23:48:00</td>\n",
       "      <td>Not recorded</td>\n",
       "      <td>0 Blk Herbst Rd</td>\n",
       "      <td>San Francisco</td>\n",
       "      <td>CA</td>\n",
       "      <td>1</td>\n",
       "      <td>Geo-Override</td>\n",
       "    </tr>\n",
       "    <tr>\n",
       "      <th>10050</th>\n",
       "      <td>160964249</td>\n",
       "      <td>Traffic Stop</td>\n",
       "      <td>2016-04-05T00:00:00</td>\n",
       "      <td>23:54</td>\n",
       "      <td>2016-04-05T23:54:00</td>\n",
       "      <td>ADV</td>\n",
       "      <td>Grant Av/geary St</td>\n",
       "      <td>San Francisco</td>\n",
       "      <td>CA</td>\n",
       "      <td>1</td>\n",
       "      <td>Intersection</td>\n",
       "    </tr>\n",
       "  </tbody>\n",
       "</table>\n",
       "<p>10051 rows × 11 columns</p>\n",
       "</div>"
      ],
      "text/plain": [
       "         CrimeId OriginalCrimeTypeName          OffenseDate CallTime  \\\n",
       "0      160903280     Assault / Battery  2016-03-30T00:00:00    18:42   \n",
       "1      160912272    Homeless Complaint  2016-03-31T00:00:00    15:31   \n",
       "2      160912590             Susp Info  2016-03-31T00:00:00    16:49   \n",
       "3      160912801                Report  2016-03-31T00:00:00    17:38   \n",
       "4      160912811                   594  2016-03-31T00:00:00    17:42   \n",
       "...          ...                   ...                  ...      ...   \n",
       "10046  160964210      Well Being Check  2016-04-05T00:00:00    23:38   \n",
       "10047  160964216          Traffic Stop  2016-04-05T00:00:00    23:43   \n",
       "10048  160964227          Traffic Stop  2016-04-05T00:00:00    23:48   \n",
       "10049  160964229          Passing Call  2016-04-05T00:00:00    23:48   \n",
       "10050  160964249          Traffic Stop  2016-04-05T00:00:00    23:54   \n",
       "\n",
       "              CallDateTime   Disposition                  Address  \\\n",
       "0      2016-03-30T18:42:00           REP  100 Block Of Chilton Av   \n",
       "1      2016-03-31T15:31:00           GOA  2300 Block Of Market St   \n",
       "2      2016-03-31T16:49:00           GOA  2300 Block Of Market St   \n",
       "3      2016-03-31T17:38:00           GOA      500 Block Of 7th St   \n",
       "4      2016-03-31T17:42:00           REP       Beale St/bryant St   \n",
       "...                    ...           ...                      ...   \n",
       "10046  2016-04-05T23:38:00           GOA    Hollister Av/hawes St   \n",
       "10047  2016-04-05T23:43:00           ADV   California St/mason St   \n",
       "10048  2016-04-05T23:48:00           CIT   Rosella Ct/onondaga Av   \n",
       "10049  2016-04-05T23:48:00  Not recorded          0 Blk Herbst Rd   \n",
       "10050  2016-04-05T23:54:00           ADV        Grant Av/geary St   \n",
       "\n",
       "                City State AgencyId      AddressType  \n",
       "0      San Francisco    CA        1  Premise Address  \n",
       "1      San Francisco    CA        1  Premise Address  \n",
       "2      San Francisco    CA        1  Premise Address  \n",
       "3      San Francisco    CA        1  Premise Address  \n",
       "4      San Francisco    CA        1     Intersection  \n",
       "...              ...   ...      ...              ...  \n",
       "10046  San Francisco    CA        1     Intersection  \n",
       "10047  San Francisco    CA        1     Intersection  \n",
       "10048  San Francisco    CA        1     Intersection  \n",
       "10049  San Francisco    CA        1     Geo-Override  \n",
       "10050  San Francisco    CA        1     Intersection  \n",
       "\n",
       "[10051 rows x 11 columns]"
      ]
     },
     "execution_count": 5,
     "metadata": {},
     "output_type": "execute_result"
    }
   ],
   "source": [
    "'''Eliminación de la columna Range'''\n",
    "df = df.drop(['Range'],axis=1)\n",
    "'''Lectura del dataset sin la columna Range'''\n",
    "df"
   ]
  },
  {
   "cell_type": "markdown",
   "id": "8a806c36",
   "metadata": {},
   "source": [
    "# Segundo Problema\n",
    "#### Columna City\n",
    "Se verifica que contenga valores unicos la columna City. Esta columna tiene algunos valores que no estan correctamente escritos por ello se reemplazan los campos."
   ]
  },
  {
   "cell_type": "code",
   "execution_count": 6,
   "id": "a24aa1be",
   "metadata": {},
   "outputs": [
    {
     "data": {
      "text/plain": [
       "array(['San Francisco', nan, 'Daly City', 'Treasure Isla', 'Yerba Buena',\n",
       "       'SAN FRANCISCO', 'Presidio', ' S', 'Brisbane'], dtype=object)"
      ]
     },
     "execution_count": 6,
     "metadata": {},
     "output_type": "execute_result"
    }
   ],
   "source": [
    "'''Visualización de valores únicos en la columna City'''\n",
    "df.City.unique()"
   ]
  },
  {
   "cell_type": "code",
   "execution_count": 7,
   "id": "54bb5d25",
   "metadata": {},
   "outputs": [
    {
     "data": {
      "text/plain": [
       "City\n",
       " S                  1\n",
       "Brisbane            1\n",
       "Daly City           5\n",
       "Presidio            3\n",
       "SAN FRANCISCO       1\n",
       "San Francisco    9665\n",
       "Treasure Isla      51\n",
       "Yerba Buena         3\n",
       "dtype: int64"
      ]
     },
     "execution_count": 7,
     "metadata": {},
     "output_type": "execute_result"
    }
   ],
   "source": [
    "'''Agrupación de registros para observar lo que hay que corregir'''\n",
    "df.groupby('City').size()"
   ]
  },
  {
   "cell_type": "code",
   "execution_count": 8,
   "id": "85c3526d",
   "metadata": {},
   "outputs": [
    {
     "data": {
      "text/plain": [
       "City\n",
       "Brisbane            1\n",
       "Daly City           5\n",
       "Presidio            3\n",
       "San Francisco    9667\n",
       "Treasure Isla      51\n",
       "Yerba Buena         3\n",
       "dtype: int64"
      ]
     },
     "execution_count": 8,
     "metadata": {},
     "output_type": "execute_result"
    }
   ],
   "source": [
    "'''Reemplazo en la columna City los registros mal escritos'''\n",
    "df['City'] = df['City'].replace({'SAN FRANCISCO': 'San Francisco', ' S': 'San Francisco'})\n",
    "'''Verificación del reemplazo en la columna City'''\n",
    "df.groupby('City').size()"
   ]
  },
  {
   "cell_type": "markdown",
   "id": "3f62549f",
   "metadata": {},
   "source": [
    "#### Columna Disposition\n",
    "Se muestran los valores únicos de la columna Disposition. Este muestra que tiene valores que reemplazar. Y tambien se corrige una palabra mas escrita"
   ]
  },
  {
   "cell_type": "code",
   "execution_count": 9,
   "id": "566aa9d5",
   "metadata": {},
   "outputs": [
    {
     "data": {
      "text/plain": [
       "array(['REP', 'GOA', 'ADV', 'HAN', 'ND', 'ARR', 'UTL', 'Not recorded',\n",
       "       'CIT', 'PAS', 'ABA', 'NOM', 'ADM', 'CAN', 'INC', 'NCR', '22',\n",
       "       'CRT', 'SFD'], dtype=object)"
      ]
     },
     "execution_count": 9,
     "metadata": {},
     "output_type": "execute_result"
    }
   ],
   "source": [
    "'''Visualización de valores únicos en la columna Disposition'''\n",
    "df.Disposition.unique()"
   ]
  },
  {
   "cell_type": "code",
   "execution_count": 10,
   "id": "0c04c95a",
   "metadata": {},
   "outputs": [
    {
     "data": {
      "text/plain": [
       "Disposition\n",
       "22                77\n",
       "ABA               97\n",
       "ADM               48\n",
       "ADV             1142\n",
       "ARR               65\n",
       "CAN              353\n",
       "CIT             1425\n",
       "CRT                2\n",
       "GOA             1273\n",
       "HAN             2820\n",
       "INC               17\n",
       "NCR               82\n",
       "ND               427\n",
       "NOM              324\n",
       "Not recorded     543\n",
       "PAS              170\n",
       "REP              800\n",
       "SFD                1\n",
       "UTL              385\n",
       "dtype: int64"
      ]
     },
     "execution_count": 10,
     "metadata": {},
     "output_type": "execute_result"
    }
   ],
   "source": [
    "'''Agrupación de registros para observar lo que hay que corregir'''\n",
    "df.groupby('Disposition').size()"
   ]
  },
  {
   "cell_type": "code",
   "execution_count": 11,
   "id": "17360568",
   "metadata": {},
   "outputs": [
    {
     "data": {
      "text/plain": [
       "Disposition\n",
       "ABA      97\n",
       "ADM      48\n",
       "ADV    1142\n",
       "ARR      65\n",
       "CAN     353\n",
       "CIT    1425\n",
       "CRT       2\n",
       "GOA    1273\n",
       "HAN    2820\n",
       "INC      17\n",
       "NCR      82\n",
       "ND     1047\n",
       "NOM     324\n",
       "PAS     170\n",
       "REP     800\n",
       "SFD       1\n",
       "UTL     385\n",
       "dtype: int64"
      ]
     },
     "execution_count": 11,
     "metadata": {},
     "output_type": "execute_result"
    }
   ],
   "source": [
    "'''Reemplazo de registros al no saber que es 22 se lo transforma a ND lo cual es No Disposition'''\n",
    "df['Disposition'] = df['Disposition'].replace({'Not recorded': 'ND', '22': 'ND'})\n",
    "'''Agrupación de registros para observar los reemplazos'''\n",
    "df.groupby('Disposition').size()"
   ]
  },
  {
   "cell_type": "markdown",
   "id": "7e123c50",
   "metadata": {},
   "source": [
    "#### Columna AddressType\n",
    "Se verifica que la columna AddressType tenga valores únicos. Este muestra que tiene valores en 1 por ello se reemplaza esos valores por el valor mas repetitivo (moda = Premise Address). Tambien se corrige una palabra mas escrita"
   ]
  },
  {
   "cell_type": "code",
   "execution_count": 12,
   "id": "09ff8519",
   "metadata": {},
   "outputs": [
    {
     "data": {
      "text/plain": [
       "array(['Premise Address', 'Intersection', 'Common Location',\n",
       "       'Geo-Override', 'Intersectioon', '1'], dtype=object)"
      ]
     },
     "execution_count": 12,
     "metadata": {},
     "output_type": "execute_result"
    }
   ],
   "source": [
    "'''Visualización de valores únicos en la columna AddressType'''\n",
    "df.AddressType.unique()"
   ]
  },
  {
   "cell_type": "code",
   "execution_count": 13,
   "id": "e1110d64",
   "metadata": {},
   "outputs": [
    {
     "data": {
      "text/plain": [
       "AddressType\n",
       "1                     3\n",
       "Common Location     818\n",
       "Geo-Override        469\n",
       "Intersection       3701\n",
       "Intersectioon         1\n",
       "Premise Address    5059\n",
       "dtype: int64"
      ]
     },
     "execution_count": 13,
     "metadata": {},
     "output_type": "execute_result"
    }
   ],
   "source": [
    "'''Agrupación de registros para observar lo que hay que corregir'''\n",
    "df.groupby('AddressType').size()"
   ]
  },
  {
   "cell_type": "code",
   "execution_count": 14,
   "id": "3c6dcdb9",
   "metadata": {},
   "outputs": [
    {
     "data": {
      "text/plain": [
       "AddressType\n",
       "Common Location     818\n",
       "Geo-Override        469\n",
       "Intersection       3702\n",
       "Premise Address    5062\n",
       "dtype: int64"
      ]
     },
     "execution_count": 14,
     "metadata": {},
     "output_type": "execute_result"
    }
   ],
   "source": [
    "'''Reemplazo del número por el registro más repetitivo'''\n",
    "df['AddressType'] = df['AddressType'].replace('1','Premise Address')\n",
    "df['AddressType'] = df['AddressType'].replace('Intersectioon','Intersection')\n",
    "\n",
    "'''Verificación del reemplazo en la columna'''\n",
    "df.groupby('AddressType').size()"
   ]
  },
  {
   "cell_type": "markdown",
   "id": "845ffe51",
   "metadata": {},
   "source": [
    "#### Columna OriginalCrimeTypeName\n",
    "Se reempalza los registros que tienen simbología innecesaria."
   ]
  },
  {
   "cell_type": "code",
   "execution_count": 15,
   "id": "4a54e209",
   "metadata": {
    "scrolled": false
   },
   "outputs": [
    {
     "data": {
      "text/plain": [
       "array(['Assault / Battery', 'Homeless Complaint', 'Susp Info', 'Report',\n",
       "       '594', \"Ref'd\", 'Agg Assault / Adw Dv', 'Encampment', 'Burglary',\n",
       "       'Suspicious Person', 'Ip', 'Arrest Made', 'Tent',\n",
       "       'Intoxicated Person', 'Guitar', 'H&r Veh Accident', 'Music',\n",
       "       'Person Dumping', 'Vandalism', 'Petty Theft', '415',\n",
       "       'Noise Nuisance', 'Fraud', 'Rep', 'Meet W/citizen',\n",
       "       'Prisoner Transport', 'Poss', 'Trespasser', 'Stolen Vehicle',\n",
       "       'Fight No Weapon', 'Check For Ped', 'Juvenile Disturbance',\n",
       "       'Party', 'Lltd', 'Robbery', '601', '500e', '913', 'Traffic Stop',\n",
       "       '909', 'Person W/gun', 'Suspicious Vehicle', 'Fight No Weapon Dv',\n",
       "       'Audible Alarm', 'Parking', 'Pay', 'Silent Holdup Alarm',\n",
       "       'Passing Call', 'Sleeper', 'Family', 'Thumping', 'Loud Music',\n",
       "       '916', 'Att', 'Threats / Harassment', 'Boombox',\n",
       "       'Traf Violation Tow', 'Dw', 'Bar Check', 'Suicide Attempt', 'Susp',\n",
       "       'Crosswalk', 'Casing/917', 'Wireless-Drop', 'Uc Hastings/405',\n",
       "       'Bomb Threat', 'Mentally Disturbed', 'Silent Alarm',\n",
       "       'Traf Violation Cite', 'Person Breaking In', 'Complaint Unkn',\n",
       "       '811', 'Casing', 'Prowler', 'Shots Fired', 'Shooting', '915',\n",
       "       'Citizen Arrest', '919', '417', 'Person Screaming',\n",
       "       'Well Being Check', '917', '917/811', 'Jo/bolo',\n",
       "       'Wanted Vehicle / Sub', 'Ug', 'Poss Ip', 'Hold-Up', '531', 'Fare',\n",
       "       'Construction', 'Drugs', 'Campers', 'Poss/601',\n",
       "       'Assault / Battery Dv', 'X', 'Return', 'Rtl', 'Verbal', '518',\n",
       "       'Meet W/officer', '488', 'Awol', 'Strongarm Robbery', 'Aggressive',\n",
       "       'Male', \"Veh's\", 'Rz', 'Sw', 'Encampent', 'Loitering',\n",
       "       'Muni Inspection', 'Auto Boost / Strip', 'Jo', 'Dw/rz', '22500e',\n",
       "       'Sleepers', 'Fire', 'Mal', 'Trc 7.2.46', 'Reckless', 'Camper',\n",
       "       '22500f', 'City Veh', 'Openline', 'Indecent Exposure',\n",
       "       'Injury Veh Accident', 'Rept', 'Cw', '851', 'Prem Check',\n",
       "       'Person W/knife', 'Ringing Doorbell', 'Veh Accident',\n",
       "       'Sleeper 601', 'I/p', 'Video', 'Unoccupied', 'R/o Violation',\n",
       "       'Psych Eval / Hold', 'Missing Adult', 'Vehicle Alarm',\n",
       "       'Person Down', '418', 'Found Drugs', 'Citizen Standby', 'Yelling',\n",
       "       '7.2.41', 'Lltn', '7.2.45', 'Nabor', 'X 594', 'Glass Bottles',\n",
       "       'Missing Juvenile', 'Sexual Assault Juve', '852', 'Escalating',\n",
       "       'Demo / Protest', 'Death / Coroner', 'Jjo', 'Vc21113a',\n",
       "       'Aggressive 601', 'Sexual Assault Adult', '601 Ug',\n",
       "       'Recover Missing Veh', 'Npat', 'Aggr Soliciting', '7.2.46',\n",
       "       'Dog Barking', '800', 'Grand Theft', 'Rz/dw',\n",
       "       'H&r Injury Accident', 'Pepperspray', '22500e/22500b', 'Vendors',\n",
       "       'Agg Assault / Adw', 'Crack', '905/muni', 'Opp', '311',\n",
       "       'Stolen Property', 'Poss Caser', '22500h', '22514',\n",
       "       'Senile Person', '311 X', 'Selling Foods', 'Muni', 'Elevator',\n",
       "       'Veh', 'Ll/td', '221', 'Static', 'Road Rage', 'W/a Hammer',\n",
       "       '221 Poss', 'At Risk', 'Drop', 'Juve Beyond Control', '22500e/.25',\n",
       "       'Squattters', 'Illegal Vendor', '7.2.25', 'Parking Space',\n",
       "       'Susp Poss', '22500a', '913/child', 'Dancer', '500f', '500h',\n",
       "       '7.2.28', 'Drinking', '240/spit', 'Poss 5150', 'Ped',\n",
       "       'Pepper Spray', '222', '487', '368ca Poss', '470', '22500i',\n",
       "       'Panic Alarm', 'Drugs Needles', '911 Hu', 'Purse Snatch',\n",
       "       '212 Poss', '7.2.26', 'Custody', '7.2.27', '22500eal',\n",
       "       'Resisting Arrest', 'Mc', 'Dirtbikes', 'Gamblers', 'Drugs/dealing',\n",
       "       'Drunk Driver', 'Ret', 'Spitter', 'Prostitute/solicite',\n",
       "       'Aided Case', '22500f/cw', 'Suspect', '518/muni', '22500b',\n",
       "       'Barking', '7.2.32', 'Bat', 'Dirtbikes/586', '213', 'Encampments',\n",
       "       '7.2.38', '7.2.40', 'Ll/ll', 'Adv', 'Chp', '911-Drop', 'Hammer',\n",
       "       'Open Line', 'Physical', 'Dog', '915 Sleeper', '910',\n",
       "       'Pay Dispute', '245', 'Keys', 'Nabors', '650', 'Opportunist',\n",
       "       'Live Band', 'Recorder', 'Female', 'Poss 152', 'Poss Casing',\n",
       "       '915 Encampment', 'Tx To Chp', 'Party Yelling', '852 Poss',\n",
       "       \"Juv's\", '586/poss 588', '5150', 'At The Atm', 'Male/poss Hazard',\n",
       "       'Heated', 'Adv To 0123', 'Busn', 'Dw Tow', 'Band', 'Kidnapping',\n",
       "       'Poss Attempt', 'Driveway', 'Threats Dv', '415 Music',\n",
       "       'Att/240 Jo', '5150 Poss', 'Stick', 'Spike', '647b Poss', 'Alarm',\n",
       "       'Sideshow', '22502a', 'Taxi Zone', 'Graffiti Vandalism', '601 Rtl',\n",
       "       'Living', 'Roof', 'Dp', '22500l', '801 Poss', 'J/o', 'Gz', 'Caser',\n",
       "       'Wz', '519', 'Poss Escalating', 'Sign', 'Ambulance', 'Drops//busn',\n",
       "       'Suspects', '811 Male', 'Camp', 'Attemp', 'Drinkers', 'Uwg', 'Lp',\n",
       "       'H&r', 'Poss 207', 'Tree Bark', 'Poss 800', 'Vendor', 'Casing/852',\n",
       "       'Ro Viol', '519 Poss', '9915', 'Pups', '518hr', 'Reckless Mcs',\n",
       "       '586', '800attempt', 'Follow Up', 'Chop Shop', 'Paydispute',\n",
       "       'Illegal Gambling', 'Rep Identity Theft', '225800e',\n",
       "       '852 Occupied', '594 Poss', 'Busn/voip', 'Roadrage', '252500e',\n",
       "       '420 Drugs', '912', 'Sudrugs', 'Fi**expedite**', 'Rtl/aggressive',\n",
       "       'Ro Violation', 'Tow Truck', '800 Poss', '*909*', '22500',\n",
       "       '152 Jo', '7.2.25/2250e', 'Agressive', 'Pay Dis', 'Rtl Cab',\n",
       "       'Drummer', '22500f/7.2.70', 'Person W/knife Dv', 'Hu', '800  Poss',\n",
       "       '152 Poss', 'Elderly X', 'Hold Up', 'Chp 1030 Veh', 'Sagressive',\n",
       "       'Bart', '240 Poss', 'Illegal Vendors', 'Loud Party', 'Stabbing',\n",
       "       'Roomate', 'Fireworks', 'Property', 'Iph', 'Bottles', 'Cane',\n",
       "       'Get Inside The Bldg', 'Music/909', 'Panic', '601rtl',\n",
       "       'Vandalism Dv', 'Neighbors', 'Open', 'Poss/910prem Check',\n",
       "       'Stattic', '594 Ip', '601uwg', '911', 'Poss 519', 'Making A Mess',\n",
       "       'Campers W/bikes', 'Pos Jumper', 'Doorway/917', 'Camping',\n",
       "       '**Tazer**', 'Loading Dock', 'Bl', 'Naked', 'Attempt',\n",
       "       'Explosive Found', 'Car Campers', '915 Campers',\n",
       "       'Poss Unreported 1030', 'Subj', 'Fp', 'Gambling', 'Wild',\n",
       "       '5150 Hold Poss', '419', '7.2.41/22500f', 'Shooting Up',\n",
       "       'St Vendors', '22500e/rz', 'Person Break In Dv', 'Veh W/open Door',\n",
       "       '22507.8a', 'Poss 801', '901 For 909', 'Unocc', 'Samurai',\n",
       "       '911 Open', 'Poss/851 Attemp Poss', 'Drugdealer', \"Mc's\", 'S',\n",
       "       'Rp', '459', 'Atc', '915s', 'Rtl/811', '420', 'Amplified',\n",
       "       'Tra7.2.37', 'Casers', 'Jump', 'Dismember Body Part', 'Poss/420',\n",
       "       '500b', '7.2.25/22500e', 'Busy', '528 Poss', 'Poss Walk Thru',\n",
       "       'Mace', 'Child', 'Loud Bass', 'Spit', 'Prem', 'Roof Squatters',\n",
       "       '.25/500e', '910 X', 'Drug Use', 'In Svc/ On Foot', 'Explosion',\n",
       "       'Scratch', '916/music', 'Return Call', 'Verbals', '100v',\n",
       "       'Loud Talking', '601/415', 'Hot', 'Cassing', 'Poss 488', 'A',\n",
       "       '152', '601/311', 'Trc 7.2.45', 'Cz', 'Silent', 'Poss Hazard',\n",
       "       '502a', '801 Threats', 'Home Invasion', '911 Drop', 'Tz', 'Npa',\n",
       "       'Toilet', 'Dropped Call', '459 Attempt', 'Ucpd', 'Jumper',\n",
       "       'Dog Bite', '909x', 'Attempt Report', 'Tro', 'Stepping On Plants',\n",
       "       'Muni Alarm', 'Ld', '240/602 Suspect', 'Poss Susp', '311x/poss800',\n",
       "       'Dogs Barking', 'Panhandler W/pitbull', 'Video Surveillence',\n",
       "       'H/r', '221/222 Poss', 'Areport', 'Protestors', '470 Poss',\n",
       "       'Broken Window', '`Drugs', 'Haz', 'House', '418rm', '240', '21211',\n",
       "       'Att Jo', \"Loud Subj's\", '811 Poss', '601/488', '7.2.70', 'Resd',\n",
       "       'Maced', '801', 'Suatters', '22514/500b', '212', '911 Open Line',\n",
       "       'Recycling', 'Park Ranger', 'Curb', 'Pills', 'Ll/ Tenant',\n",
       "       '219/601', 'Ifo', '911 Hu Call', '920 Rtl', 'Poss Att', 'Att Only',\n",
       "       'Ams', '***901 Req***', 'Drugs/915', 'Rpt', 'Children', '500e/rz',\n",
       "       'Vehicle', 'Ug Rtl', '601/family', 'Death', 'Att Susp', '9909',\n",
       "       '2 Reps', 'Vending', 'Drp', 'Brewing/pay Dispute', 'Skateboarders',\n",
       "       'Sonitrol', 'Wreckless Driver', '148', 'Bicylist', '852 Casing',\n",
       "       'Nabo', 'R.o. Violation', '910 Poss', '22500e/500h', 'Pay Disp',\n",
       "       '22654e', 'Brewing', '.52', 'Phys', '222 Att', 'Wireless-Open',\n",
       "       'Adv To Co A', 'Wireless-H/u'], dtype=object)"
      ]
     },
     "execution_count": 15,
     "metadata": {},
     "output_type": "execute_result"
    }
   ],
   "source": [
    "'''Visualización de valores únicos en la columna State'''\n",
    "df.OriginalCrimeTypeName.unique()"
   ]
  },
  {
   "cell_type": "code",
   "execution_count": 16,
   "id": "22bb44fd",
   "metadata": {},
   "outputs": [
    {
     "data": {
      "text/plain": [
       "array(['Assault / Battery', 'Homeless Complaint', 'Susp Info', 'Report',\n",
       "       '594', \"Ref'd\", 'Agg Assault / Adw Dv', 'Encampment', 'Burglary',\n",
       "       'Suspicious Person', 'Ip', 'Arrest Made', 'Tent',\n",
       "       'Intoxicated Person', 'Guitar', 'H&r Veh Accident', 'Music',\n",
       "       'Person Dumping', 'Vandalism', 'Petty Theft', '415',\n",
       "       'Noise Nuisance', 'Fraud', 'Rep', 'Meet W/citizen',\n",
       "       'Prisoner Transport', 'Poss', 'Trespasser', 'Stolen Vehicle',\n",
       "       'Fight No Weapon', 'Check For Ped', 'Juvenile Disturbance',\n",
       "       'Party', 'Lltd', 'Robbery', '601', '500e', '913', 'Traffic Stop',\n",
       "       '909', 'Person W/gun', 'Suspicious Vehicle', 'Fight No Weapon Dv',\n",
       "       'Audible Alarm', 'Parking', 'Pay', 'Silent Holdup Alarm',\n",
       "       'Passing Call', 'Sleeper', 'Family', 'Thumping', 'Loud Music',\n",
       "       '916', 'Att', 'Threats / Harassment', 'Boombox',\n",
       "       'Traf Violation Tow', 'Dw', 'Bar Check', 'Suicide Attempt', 'Susp',\n",
       "       'Crosswalk', 'Casing/917', 'Wireless-Drop', 'Uc Hastings/405',\n",
       "       'Bomb Threat', 'Mentally Disturbed', 'Silent Alarm',\n",
       "       'Traf Violation Cite', 'Person Breaking In', 'Complaint Unkn',\n",
       "       '811', 'Casing', 'Prowler', 'Shots Fired', 'Shooting', '915',\n",
       "       'Citizen Arrest', '919', '417', 'Person Screaming',\n",
       "       'Well Being Check', '917', '917/811', 'Jo/bolo',\n",
       "       'Wanted Vehicle / Sub', 'Ug', 'Poss Ip', 'Hold-Up', '531', 'Fare',\n",
       "       'Construction', 'Drugs', 'Campers', 'Poss/601',\n",
       "       'Assault / Battery Dv', 'X', 'Return', 'Rtl', 'Verbal', '518',\n",
       "       'Meet W/officer', '488', 'Awol', 'Strongarm Robbery', 'Aggressive',\n",
       "       'Male', \"Veh's\", 'Rz', 'Sw', 'Encampent', 'Loitering',\n",
       "       'Muni Inspection', 'Auto Boost / Strip', 'Jo', 'Dw/rz', '22500e',\n",
       "       'Sleepers', 'Fire', 'Mal', 'Trc 7.2.46', 'Reckless', 'Camper',\n",
       "       '22500f', 'City Veh', 'Openline', 'Indecent Exposure',\n",
       "       'Injury Veh Accident', 'Rept', 'Cw', '851', 'Prem Check',\n",
       "       'Person W/knife', 'Ringing Doorbell', 'Veh Accident',\n",
       "       'Sleeper 601', 'I/p', 'Video', 'Unoccupied', 'R/o Violation',\n",
       "       'Psych Eval / Hold', 'Missing Adult', 'Vehicle Alarm',\n",
       "       'Person Down', '418', 'Found Drugs', 'Citizen Standby', 'Yelling',\n",
       "       '7.2.41', 'Lltn', '7.2.45', 'Nabor', 'X 594', 'Glass Bottles',\n",
       "       'Missing Juvenile', 'Sexual Assault Juve', '852', 'Escalating',\n",
       "       'Demo / Protest', 'Death / Coroner', 'Jjo', 'Vc21113a',\n",
       "       'Aggressive 601', 'Sexual Assault Adult', '601 Ug',\n",
       "       'Recover Missing Veh', 'Npat', 'Aggr Soliciting', '7.2.46',\n",
       "       'Dog Barking', '800', 'Grand Theft', 'Rz/dw',\n",
       "       'H&r Injury Accident', 'Pepperspray', '22500e/22500b', 'Vendors',\n",
       "       'Agg Assault / Adw', 'Crack', '905/muni', 'Opp', '311',\n",
       "       'Stolen Property', 'Poss Caser', '22500h', '22514',\n",
       "       'Senile Person', '311 X', 'Selling Foods', 'Muni', 'Elevator',\n",
       "       'Veh', 'Ll/td', '221', 'Static', 'Road Rage', 'W/a Hammer',\n",
       "       '221 Poss', 'At Risk', 'Drop', 'Juve Beyond Control', '22500e/.25',\n",
       "       'Squattters', 'Illegal Vendor', '7.2.25', 'Parking Space',\n",
       "       'Susp Poss', '22500a', '913/child', 'Dancer', '500f', '500h',\n",
       "       '7.2.28', 'Drinking', '240/spit', 'Poss 5150', 'Ped',\n",
       "       'Pepper Spray', '222', '487', '368ca Poss', '470', '22500i',\n",
       "       'Panic Alarm', 'Drugs Needles', '911 Hu', 'Purse Snatch',\n",
       "       '212 Poss', '7.2.26', 'Custody', '7.2.27', '22500eal',\n",
       "       'Resisting Arrest', 'Mc', 'Dirtbikes', 'Gamblers', 'Drugs/dealing',\n",
       "       'Drunk Driver', 'Ret', 'Spitter', 'Prostitute/solicite',\n",
       "       'Aided Case', '22500f/cw', 'Suspect', '518/muni', '22500b',\n",
       "       'Barking', '7.2.32', 'Bat', 'Dirtbikes/586', '213', 'Encampments',\n",
       "       '7.2.38', '7.2.40', 'Ll/ll', 'Adv', 'Chp', '911-Drop', 'Hammer',\n",
       "       'Open Line', 'Physical', 'Dog', '915 Sleeper', '910',\n",
       "       'Pay Dispute', '245', 'Keys', 'Nabors', '650', 'Opportunist',\n",
       "       'Live Band', 'Recorder', 'Female', 'Poss 152', 'Poss Casing',\n",
       "       '915 Encampment', 'Tx To Chp', 'Party Yelling', '852 Poss',\n",
       "       \"Juv's\", '586/poss 588', '5150', 'At The Atm', 'Male/poss Hazard',\n",
       "       'Heated', 'Adv To 0123', 'Busn', 'Dw Tow', 'Band', 'Kidnapping',\n",
       "       'Poss Attempt', 'Driveway', 'Threats Dv', '415 Music',\n",
       "       'Att/240 Jo', '5150 Poss', 'Stick', 'Spike', '647b Poss', 'Alarm',\n",
       "       'Sideshow', '22502a', 'Taxi Zone', 'Graffiti Vandalism', '601 Rtl',\n",
       "       'Living', 'Roof', 'Dp', '22500l', '801 Poss', 'J/o', 'Gz', 'Caser',\n",
       "       'Wz', '519', 'Poss Escalating', 'Sign', 'Ambulance', 'Drops//busn',\n",
       "       'Suspects', '811 Male', 'Camp', 'Attemp', 'Drinkers', 'Uwg', 'Lp',\n",
       "       'H&r', 'Poss 207', 'Tree Bark', 'Poss 800', 'Vendor', 'Casing/852',\n",
       "       'Ro Viol', '519 Poss', '9915', 'Pups', '518hr', 'Reckless Mcs',\n",
       "       '586', '800attempt', 'Follow Up', 'Chop Shop', 'Paydispute',\n",
       "       'Illegal Gambling', 'Rep Identity Theft', '225800e',\n",
       "       '852 Occupied', '594 Poss', 'Busn/voip', 'Roadrage', '252500e',\n",
       "       '420 Drugs', '912', 'Sudrugs', 'Fiexpedite', 'Rtl/aggressive',\n",
       "       'Ro Violation', 'Tow Truck', '800 Poss', '22500', '152 Jo',\n",
       "       '7.2.25/2250e', 'Agressive', 'Pay Dis', 'Rtl Cab', 'Drummer',\n",
       "       '22500f/7.2.70', 'Person W/knife Dv', 'Hu', '800  Poss',\n",
       "       '152 Poss', 'Elderly X', 'Hold Up', 'Chp 1030 Veh', 'Sagressive',\n",
       "       'Bart', '240 Poss', 'Illegal Vendors', 'Loud Party', 'Stabbing',\n",
       "       'Roomate', 'Fireworks', 'Property', 'Iph', 'Bottles', 'Cane',\n",
       "       'Get Inside The Bldg', 'Music/909', 'Panic', '601rtl',\n",
       "       'Vandalism Dv', 'Neighbors', 'Open', 'Poss/910prem Check',\n",
       "       'Stattic', '594 Ip', '601uwg', '911', 'Poss 519', 'Making A Mess',\n",
       "       'Campers W/bikes', 'Pos Jumper', 'Doorway/917', 'Camping', 'Tazer',\n",
       "       'Loading Dock', 'Bl', 'Naked', 'Attempt', 'Explosive Found',\n",
       "       'Car Campers', '915 Campers', 'Poss Unreported 1030', 'Subj', 'Fp',\n",
       "       'Gambling', 'Wild', '5150 Hold Poss', '419', '7.2.41/22500f',\n",
       "       'Shooting Up', 'St Vendors', '22500e/rz', 'Person Break In Dv',\n",
       "       'Veh W/open Door', '22507.8a', 'Poss 801', '901 For 909', 'Unocc',\n",
       "       'Samurai', '911 Open', 'Poss/851 Attemp Poss', 'Drugdealer',\n",
       "       \"Mc's\", 'S', 'Rp', '459', 'Atc', '915s', 'Rtl/811', '420',\n",
       "       'Amplified', 'Tra7.2.37', 'Casers', 'Jump', 'Dismember Body Part',\n",
       "       'Poss/420', '500b', '7.2.25/22500e', 'Busy', '528 Poss',\n",
       "       'Poss Walk Thru', 'Mace', 'Child', 'Loud Bass', 'Spit', 'Prem',\n",
       "       'Roof Squatters', '25/500e', '910 X', 'Drug Use',\n",
       "       'In Svc/ On Foot', 'Explosion', 'Scratch', '916/music',\n",
       "       'Return Call', 'Verbals', '100v', 'Loud Talking', '601/415', 'Hot',\n",
       "       'Cassing', 'Poss 488', 'A', '152', '601/311', 'Trc 7.2.45', 'Cz',\n",
       "       'Silent', 'Poss Hazard', '502a', '801 Threats', 'Home Invasion',\n",
       "       '911 Drop', 'Tz', 'Npa', 'Toilet', 'Dropped Call', '459 Attempt',\n",
       "       'Ucpd', 'Jumper', 'Dog Bite', '909x', 'Attempt Report', 'Tro',\n",
       "       'Stepping On Plants', 'Muni Alarm', 'Ld', '240/602 Suspect',\n",
       "       'Poss Susp', '311x/poss800', 'Dogs Barking',\n",
       "       'Panhandler W/pitbull', 'Video Surveillence', 'H/r',\n",
       "       '221/222 Poss', 'Areport', 'Protestors', '470 Poss',\n",
       "       'Broken Window', 'Drug', 'Haz', 'House', '418rm', '240', '21211',\n",
       "       'Att Jo', \"Loud Subj's\", '811 Poss', '601/488', '7.2.70', 'Resd',\n",
       "       'Maced', '801', 'Suatters', '22514/500b', '212', '911 Open Line',\n",
       "       'Recycling', 'Park Ranger', 'Curb', 'Pills', 'Ll/ Tenant',\n",
       "       '219/601', 'Ifo', '911 Hu Call', '920 Rtl', 'Poss Att', 'Att Only',\n",
       "       'Ams', '901 Req', 'Drugs/915', 'Rpt', 'Children', '500e/rz',\n",
       "       'Vehicle', 'Ug Rtl', '601/family', 'Death', 'Att Susp', '9909',\n",
       "       '2 Reps', 'Vending', 'Drp', 'Brewing/pay Dispute', 'Skateboarders',\n",
       "       'Sonitrol', 'Wreckless Driver', '148', 'Bicylist', '852 Casing',\n",
       "       'Nabo', 'R.o. Violation', '910 Poss', '22500e/500h', 'Pay Disp',\n",
       "       '22654e', 'Brewing', '52', 'Phys', '222 Att', 'Wireless-Open',\n",
       "       'Adv To Co A', 'Wireless-H/u'], dtype=object)"
      ]
     },
     "execution_count": 16,
     "metadata": {},
     "output_type": "execute_result"
    }
   ],
   "source": [
    "'''Reemplazo de registros con simbología innecesaria'''\n",
    "df['OriginalCrimeTypeName'] = df['OriginalCrimeTypeName'].replace({'*909*': '909', \n",
    "                                                                   '**Tazer**': 'Tazer',\n",
    "                                                                   '***901 Req***': '901 Req',\n",
    "                                                                   'Fi**expedite**': 'Fiexpedite',\n",
    "                                                                   '.52': '52', '.25/500e': '25/500e', '`Drugs': 'Drug'})\n",
    "'''Visualización de valores únicos en la columna State'''\n",
    "df.OriginalCrimeTypeName.unique()"
   ]
  },
  {
   "cell_type": "markdown",
   "id": "d541fe9a",
   "metadata": {},
   "source": [
    "# Tercer problema\n",
    "#### Columna City\n",
    "Se verifica que la columna City tenga valores únicos. La columna city tiene valores nulos por ello se reemplaza esos valores nulos por sin registro."
   ]
  },
  {
   "cell_type": "code",
   "execution_count": 17,
   "id": "ca92619f",
   "metadata": {},
   "outputs": [
    {
     "data": {
      "text/plain": [
       "array(['San Francisco', nan, 'Daly City', 'Treasure Isla', 'Yerba Buena',\n",
       "       'Presidio', 'Brisbane'], dtype=object)"
      ]
     },
     "execution_count": 17,
     "metadata": {},
     "output_type": "execute_result"
    }
   ],
   "source": [
    "'''Visualización de valores únicos en la columna City'''\n",
    "df.City.unique()"
   ]
  },
  {
   "cell_type": "code",
   "execution_count": 18,
   "id": "b7864c6c",
   "metadata": {},
   "outputs": [],
   "source": [
    "'''Reemplazo de valores nulos por No Registration'''\n",
    "df['City'].fillna('No Registration', inplace=True)"
   ]
  },
  {
   "cell_type": "code",
   "execution_count": 19,
   "id": "4e4b0027",
   "metadata": {},
   "outputs": [
    {
     "data": {
      "text/plain": [
       "CrimeId                  0\n",
       "OriginalCrimeTypeName    0\n",
       "OffenseDate              0\n",
       "CallTime                 0\n",
       "CallDateTime             0\n",
       "Disposition              0\n",
       "Address                  0\n",
       "City                     0\n",
       "State                    3\n",
       "AgencyId                 0\n",
       "AddressType              0\n",
       "dtype: int64"
      ]
     },
     "execution_count": 19,
     "metadata": {},
     "output_type": "execute_result"
    }
   ],
   "source": [
    "'''Se verifica que ya no haya valores nulos en la columna City'''\n",
    "df.isnull().sum()"
   ]
  },
  {
   "cell_type": "markdown",
   "id": "61588d00",
   "metadata": {},
   "source": [
    "# Cuarto Problema\n",
    "#### Columna State\n",
    "Se verifica que la columna State sea única. Esto muestra que la columna State tiene valores nulos donde, estos son reemplazados por el campo CA"
   ]
  },
  {
   "cell_type": "code",
   "execution_count": 20,
   "id": "713d6b18",
   "metadata": {},
   "outputs": [
    {
     "data": {
      "text/plain": [
       "array(['CA', nan], dtype=object)"
      ]
     },
     "execution_count": 20,
     "metadata": {},
     "output_type": "execute_result"
    }
   ],
   "source": [
    "'''Visualización de valores únicos en la columna State'''\n",
    "df.State.unique()"
   ]
  },
  {
   "cell_type": "code",
   "execution_count": 21,
   "id": "b6f1fb2a",
   "metadata": {},
   "outputs": [
    {
     "data": {
      "text/plain": [
       "State\n",
       "CA    10048\n",
       "dtype: int64"
      ]
     },
     "execution_count": 21,
     "metadata": {},
     "output_type": "execute_result"
    }
   ],
   "source": [
    "'''Agrupación de datos para saber cuantos datos existen'''\n",
    "df.groupby('State').size()"
   ]
  },
  {
   "cell_type": "code",
   "execution_count": 22,
   "id": "8c16e651",
   "metadata": {},
   "outputs": [],
   "source": [
    "'''Se reemplaza los valores NULOS por el campo CA'''\n",
    "df['State'].fillna('CA', inplace=True)"
   ]
  },
  {
   "cell_type": "code",
   "execution_count": 23,
   "id": "55c2f35e",
   "metadata": {},
   "outputs": [
    {
     "data": {
      "text/plain": [
       "State\n",
       "CA    10051\n",
       "dtype: int64"
      ]
     },
     "execution_count": 23,
     "metadata": {},
     "output_type": "execute_result"
    }
   ],
   "source": [
    "'''Visualización de los registros correctos en la columna State'''\n",
    "df.groupby('State').size()"
   ]
  },
  {
   "cell_type": "code",
   "execution_count": 24,
   "id": "165a6ba5",
   "metadata": {},
   "outputs": [
    {
     "data": {
      "text/plain": [
       "array(['CA'], dtype=object)"
      ]
     },
     "execution_count": 24,
     "metadata": {},
     "output_type": "execute_result"
    }
   ],
   "source": [
    "'''Visualización de valores únicos en la columna State'''\n",
    "df.State.unique()"
   ]
  },
  {
   "cell_type": "markdown",
   "id": "0f7f5c24",
   "metadata": {},
   "source": [
    "# Quinto Problema\n",
    "#### Columna Agency\n",
    "Se verifica que la columna AgencyId sea única. Esta muestra que tiene campos numéricos por ende se debe convertir las letras a números ya que esos son la mayria de sus datos."
   ]
  },
  {
   "cell_type": "code",
   "execution_count": 25,
   "id": "ce519583",
   "metadata": {},
   "outputs": [
    {
     "data": {
      "text/plain": [
       "array(['1', 'CA'], dtype=object)"
      ]
     },
     "execution_count": 25,
     "metadata": {},
     "output_type": "execute_result"
    }
   ],
   "source": [
    "'''Verificación de datos únicos'''\n",
    "df.AgencyId.unique()"
   ]
  },
  {
   "cell_type": "code",
   "execution_count": 26,
   "id": "04a15eb1",
   "metadata": {},
   "outputs": [
    {
     "data": {
      "text/plain": [
       "AgencyId\n",
       "1     10048\n",
       "CA        3\n",
       "dtype: int64"
      ]
     },
     "execution_count": 26,
     "metadata": {},
     "output_type": "execute_result"
    }
   ],
   "source": [
    "'''Agrupación de datos para saber cuantos datos están mal registrados'''\n",
    "df.groupby('AgencyId').size()"
   ]
  },
  {
   "cell_type": "code",
   "execution_count": 27,
   "id": "ab2ae4a8",
   "metadata": {},
   "outputs": [
    {
     "data": {
      "text/plain": [
       "AgencyId\n",
       "1    10051\n",
       "dtype: int64"
      ]
     },
     "execution_count": 27,
     "metadata": {},
     "output_type": "execute_result"
    }
   ],
   "source": [
    "'''Reemplazo de las letras en la columna'''\n",
    "df['AgencyId'] = df['AgencyId'].replace('CA','1')\n",
    "'''Verificación del reemplazo en la columna'''\n",
    "df.groupby('AgencyId').size()"
   ]
  },
  {
   "cell_type": "code",
   "execution_count": 28,
   "id": "70b5dc0b",
   "metadata": {},
   "outputs": [
    {
     "data": {
      "text/plain": [
       "array(['1'], dtype=object)"
      ]
     },
     "execution_count": 28,
     "metadata": {},
     "output_type": "execute_result"
    }
   ],
   "source": [
    "'''Verificación de datos únicos nuevamente'''\n",
    "df.AgencyId.unique()"
   ]
  },
  {
   "cell_type": "markdown",
   "id": "849262cf",
   "metadata": {},
   "source": [
    "# Sexto Problema\n",
    "#### Columna CrimeId\n",
    "Verificación de valores únicos en la columna CrimeID. Esta primer columna es el campo de registros único, es decir, no puede haber valores duplicados. Por lo tanto se revisa si contiene valores duplicados."
   ]
  },
  {
   "cell_type": "code",
   "execution_count": 29,
   "id": "fa46acd6",
   "metadata": {},
   "outputs": [
    {
     "data": {
      "text/plain": [
       "array([160903280, 160912272, 160912590, ..., 160964227, 160964229,\n",
       "       160964249], dtype=int64)"
      ]
     },
     "execution_count": 29,
     "metadata": {},
     "output_type": "execute_result"
    }
   ],
   "source": [
    "'''Visualización de valores únicos en la columna State'''\n",
    "df.CrimeId.unique()"
   ]
  },
  {
   "cell_type": "markdown",
   "id": "5f2255c0",
   "metadata": {},
   "source": [
    "##### Datos Duplicados\n",
    "Por ende si existen datos duplicados no habría como establecer el campo como un indice único, por lo que se modifica los valores duplicados por valores únicos, utilizando el valor máximo existente para la columna."
   ]
  },
  {
   "cell_type": "code",
   "execution_count": 30,
   "id": "8d188f16",
   "metadata": {},
   "outputs": [
    {
     "data": {
      "text/html": [
       "<div>\n",
       "<style scoped>\n",
       "    .dataframe tbody tr th:only-of-type {\n",
       "        vertical-align: middle;\n",
       "    }\n",
       "\n",
       "    .dataframe tbody tr th {\n",
       "        vertical-align: top;\n",
       "    }\n",
       "\n",
       "    .dataframe thead th {\n",
       "        text-align: right;\n",
       "    }\n",
       "</style>\n",
       "<table border=\"1\" class=\"dataframe\">\n",
       "  <thead>\n",
       "    <tr style=\"text-align: right;\">\n",
       "      <th></th>\n",
       "      <th>CrimeId</th>\n",
       "      <th>OriginalCrimeTypeName</th>\n",
       "      <th>OffenseDate</th>\n",
       "      <th>CallTime</th>\n",
       "      <th>CallDateTime</th>\n",
       "      <th>Disposition</th>\n",
       "      <th>Address</th>\n",
       "      <th>City</th>\n",
       "      <th>State</th>\n",
       "      <th>AgencyId</th>\n",
       "      <th>AddressType</th>\n",
       "    </tr>\n",
       "  </thead>\n",
       "  <tbody>\n",
       "    <tr>\n",
       "      <th>26</th>\n",
       "      <td>160913455</td>\n",
       "      <td>Vandalism</td>\n",
       "      <td>2016-03-31T00:00:00</td>\n",
       "      <td>20:53</td>\n",
       "      <td>2016-03-31T20:53:00</td>\n",
       "      <td>ND</td>\n",
       "      <td>1600 Block Of Sunnydale Av</td>\n",
       "      <td>San Francisco</td>\n",
       "      <td>CA</td>\n",
       "      <td>1</td>\n",
       "      <td>Premise Address</td>\n",
       "    </tr>\n",
       "    <tr>\n",
       "      <th>1707</th>\n",
       "      <td>160913455</td>\n",
       "      <td>Susp</td>\n",
       "      <td>2016-04-01T00:00:00</td>\n",
       "      <td>18:29</td>\n",
       "      <td>2016-04-01T18:29:00</td>\n",
       "      <td>GOA</td>\n",
       "      <td>Geary St/larkin St</td>\n",
       "      <td>San Francisco</td>\n",
       "      <td>CA</td>\n",
       "      <td>1</td>\n",
       "      <td>Intersection</td>\n",
       "    </tr>\n",
       "    <tr>\n",
       "      <th>3792</th>\n",
       "      <td>160913455</td>\n",
       "      <td>Passing Call</td>\n",
       "      <td>2016-04-02T00:00:00</td>\n",
       "      <td>17:11</td>\n",
       "      <td>2016-04-02T17:11:00</td>\n",
       "      <td>ND</td>\n",
       "      <td>900 Block Of Market St</td>\n",
       "      <td>San Francisco</td>\n",
       "      <td>CA</td>\n",
       "      <td>1</td>\n",
       "      <td>Premise Address</td>\n",
       "    </tr>\n",
       "    <tr>\n",
       "      <th>7045</th>\n",
       "      <td>160950496</td>\n",
       "      <td>Passing Call</td>\n",
       "      <td>2016-04-04T00:00:00</td>\n",
       "      <td>6:51</td>\n",
       "      <td>2016-04-04T06:51:00</td>\n",
       "      <td>HAN</td>\n",
       "      <td>University St/felton St</td>\n",
       "      <td>San Francisco</td>\n",
       "      <td>CA</td>\n",
       "      <td>1</td>\n",
       "      <td>Intersection</td>\n",
       "    </tr>\n",
       "    <tr>\n",
       "      <th>7046</th>\n",
       "      <td>160950496</td>\n",
       "      <td>Suspicious Vehicle</td>\n",
       "      <td>2016-04-04T00:00:00</td>\n",
       "      <td>6:51</td>\n",
       "      <td>2016-04-04T06:51:00</td>\n",
       "      <td>ND</td>\n",
       "      <td>1400 Block Of Cabrillo St</td>\n",
       "      <td>San Francisco</td>\n",
       "      <td>CA</td>\n",
       "      <td>1</td>\n",
       "      <td>Premise Address</td>\n",
       "    </tr>\n",
       "    <tr>\n",
       "      <th>7047</th>\n",
       "      <td>160950496</td>\n",
       "      <td>Trespasser</td>\n",
       "      <td>2016-04-04T00:00:00</td>\n",
       "      <td>6:51</td>\n",
       "      <td>2016-04-04T06:51:00</td>\n",
       "      <td>CAN</td>\n",
       "      <td>Block Of Hampshire St</td>\n",
       "      <td>San Francisco</td>\n",
       "      <td>CA</td>\n",
       "      <td>1</td>\n",
       "      <td>Premise Address</td>\n",
       "    </tr>\n",
       "  </tbody>\n",
       "</table>\n",
       "</div>"
      ],
      "text/plain": [
       "        CrimeId OriginalCrimeTypeName          OffenseDate CallTime  \\\n",
       "26    160913455             Vandalism  2016-03-31T00:00:00    20:53   \n",
       "1707  160913455                  Susp  2016-04-01T00:00:00    18:29   \n",
       "3792  160913455          Passing Call  2016-04-02T00:00:00    17:11   \n",
       "7045  160950496          Passing Call  2016-04-04T00:00:00     6:51   \n",
       "7046  160950496    Suspicious Vehicle  2016-04-04T00:00:00     6:51   \n",
       "7047  160950496            Trespasser  2016-04-04T00:00:00     6:51   \n",
       "\n",
       "             CallDateTime Disposition                     Address  \\\n",
       "26    2016-03-31T20:53:00          ND  1600 Block Of Sunnydale Av   \n",
       "1707  2016-04-01T18:29:00         GOA          Geary St/larkin St   \n",
       "3792  2016-04-02T17:11:00          ND      900 Block Of Market St   \n",
       "7045  2016-04-04T06:51:00         HAN     University St/felton St   \n",
       "7046  2016-04-04T06:51:00          ND   1400 Block Of Cabrillo St   \n",
       "7047  2016-04-04T06:51:00         CAN       Block Of Hampshire St   \n",
       "\n",
       "               City State AgencyId      AddressType  \n",
       "26    San Francisco    CA        1  Premise Address  \n",
       "1707  San Francisco    CA        1     Intersection  \n",
       "3792  San Francisco    CA        1  Premise Address  \n",
       "7045  San Francisco    CA        1     Intersection  \n",
       "7046  San Francisco    CA        1  Premise Address  \n",
       "7047  San Francisco    CA        1  Premise Address  "
      ]
     },
     "execution_count": 30,
     "metadata": {},
     "output_type": "execute_result"
    }
   ],
   "source": [
    "'''Se observan los registros duplicados del dataset'''\n",
    "df[df.duplicated(subset = ['CrimeId'], keep=False)]"
   ]
  },
  {
   "cell_type": "code",
   "execution_count": 31,
   "id": "08aefc99",
   "metadata": {
    "collapsed": true
   },
   "outputs": [
    {
     "name": "stderr",
     "output_type": "stream",
     "text": [
      "C:\\Users\\Xiomy\\AppData\\Local\\Temp\\ipykernel_4708\\1731213875.py:8: SettingWithCopyWarning: \n",
      "A value is trying to be set on a copy of a slice from a DataFrame\n",
      "\n",
      "See the caveats in the documentation: https://pandas.pydata.org/pandas-docs/stable/user_guide/indexing.html#returning-a-view-versus-a-copy\n",
      "  df['CrimeId'].iloc[indice] = max #Establece el nuevo valor del indice\n"
     ]
    }
   ],
   "source": [
    "'''Se modifica los valores duplicados por valores únicos'''\n",
    "duplicados = df.index[df.duplicated(subset = ['CrimeId'], keep = False)].tolist()\n",
    "'''Se utiliza el valor máximo existente para la columna'''\n",
    "max = df['CrimeId'].max()\n",
    "'''Ciclo para establecer los valores como únicos'''\n",
    "for indice in duplicados:\n",
    "  max += 1 #Al valor máximo aumenta en 1\n",
    "  df['CrimeId'].iloc[indice] = max #Establece el nuevo valor del indice"
   ]
  },
  {
   "cell_type": "code",
   "execution_count": 32,
   "id": "70a86ddf",
   "metadata": {},
   "outputs": [
    {
     "data": {
      "text/html": [
       "<div>\n",
       "<style scoped>\n",
       "    .dataframe tbody tr th:only-of-type {\n",
       "        vertical-align: middle;\n",
       "    }\n",
       "\n",
       "    .dataframe tbody tr th {\n",
       "        vertical-align: top;\n",
       "    }\n",
       "\n",
       "    .dataframe thead th {\n",
       "        text-align: right;\n",
       "    }\n",
       "</style>\n",
       "<table border=\"1\" class=\"dataframe\">\n",
       "  <thead>\n",
       "    <tr style=\"text-align: right;\">\n",
       "      <th></th>\n",
       "      <th>CrimeId</th>\n",
       "      <th>OriginalCrimeTypeName</th>\n",
       "      <th>OffenseDate</th>\n",
       "      <th>CallTime</th>\n",
       "      <th>CallDateTime</th>\n",
       "      <th>Disposition</th>\n",
       "      <th>Address</th>\n",
       "      <th>City</th>\n",
       "      <th>State</th>\n",
       "      <th>AgencyId</th>\n",
       "      <th>AddressType</th>\n",
       "    </tr>\n",
       "  </thead>\n",
       "  <tbody>\n",
       "  </tbody>\n",
       "</table>\n",
       "</div>"
      ],
      "text/plain": [
       "Empty DataFrame\n",
       "Columns: [CrimeId, OriginalCrimeTypeName, OffenseDate, CallTime, CallDateTime, Disposition, Address, City, State, AgencyId, AddressType]\n",
       "Index: []"
      ]
     },
     "execution_count": 32,
     "metadata": {},
     "output_type": "execute_result"
    }
   ],
   "source": [
    "'''Se verfica nuevamente que no haya valores duplicados'''\n",
    "df[df.duplicated(subset=['CrimeId'],keep=False)]"
   ]
  },
  {
   "cell_type": "markdown",
   "id": "b404a7b3",
   "metadata": {},
   "source": [
    "# Conversión a archivo JSON\n",
    "Exportación del DataFrame Limpio en archivos de formato CSV y JSON"
   ]
  },
  {
   "cell_type": "code",
   "execution_count": 33,
   "id": "881dea36",
   "metadata": {},
   "outputs": [],
   "source": [
    "'''Guardar en formato CSV el Datraframe limpio'''\n",
    "df.to_csv('Criminology_Limpio.csv', sep=',', index=False, header=True)\n",
    "'''Guardar en formato JASON el Datraframe limpio'''\n",
    "df.to_json('Criminology_Limpio.json', orient='records', lines=True)"
   ]
  },
  {
   "cell_type": "code",
   "execution_count": 34,
   "id": "9a828a52",
   "metadata": {},
   "outputs": [
    {
     "data": {
      "text/html": [
       "<div>\n",
       "<style scoped>\n",
       "    .dataframe tbody tr th:only-of-type {\n",
       "        vertical-align: middle;\n",
       "    }\n",
       "\n",
       "    .dataframe tbody tr th {\n",
       "        vertical-align: top;\n",
       "    }\n",
       "\n",
       "    .dataframe thead th {\n",
       "        text-align: right;\n",
       "    }\n",
       "</style>\n",
       "<table border=\"1\" class=\"dataframe\">\n",
       "  <thead>\n",
       "    <tr style=\"text-align: right;\">\n",
       "      <th></th>\n",
       "      <th>CrimeId</th>\n",
       "      <th>OriginalCrimeTypeName</th>\n",
       "      <th>OffenseDate</th>\n",
       "      <th>CallTime</th>\n",
       "      <th>CallDateTime</th>\n",
       "      <th>Disposition</th>\n",
       "      <th>Address</th>\n",
       "      <th>City</th>\n",
       "      <th>State</th>\n",
       "      <th>AgencyId</th>\n",
       "      <th>AddressType</th>\n",
       "    </tr>\n",
       "  </thead>\n",
       "  <tbody>\n",
       "    <tr>\n",
       "      <th>0</th>\n",
       "      <td>160903280</td>\n",
       "      <td>Assault / Battery</td>\n",
       "      <td>2016-03-30T00:00:00</td>\n",
       "      <td>18:42</td>\n",
       "      <td>2016-03-30T18:42:00</td>\n",
       "      <td>REP</td>\n",
       "      <td>100 Block Of Chilton Av</td>\n",
       "      <td>San Francisco</td>\n",
       "      <td>CA</td>\n",
       "      <td>1</td>\n",
       "      <td>Premise Address</td>\n",
       "    </tr>\n",
       "    <tr>\n",
       "      <th>1</th>\n",
       "      <td>160912272</td>\n",
       "      <td>Homeless Complaint</td>\n",
       "      <td>2016-03-31T00:00:00</td>\n",
       "      <td>15:31</td>\n",
       "      <td>2016-03-31T15:31:00</td>\n",
       "      <td>GOA</td>\n",
       "      <td>2300 Block Of Market St</td>\n",
       "      <td>San Francisco</td>\n",
       "      <td>CA</td>\n",
       "      <td>1</td>\n",
       "      <td>Premise Address</td>\n",
       "    </tr>\n",
       "    <tr>\n",
       "      <th>2</th>\n",
       "      <td>160912590</td>\n",
       "      <td>Susp Info</td>\n",
       "      <td>2016-03-31T00:00:00</td>\n",
       "      <td>16:49</td>\n",
       "      <td>2016-03-31T16:49:00</td>\n",
       "      <td>GOA</td>\n",
       "      <td>2300 Block Of Market St</td>\n",
       "      <td>San Francisco</td>\n",
       "      <td>CA</td>\n",
       "      <td>1</td>\n",
       "      <td>Premise Address</td>\n",
       "    </tr>\n",
       "    <tr>\n",
       "      <th>3</th>\n",
       "      <td>160912801</td>\n",
       "      <td>Report</td>\n",
       "      <td>2016-03-31T00:00:00</td>\n",
       "      <td>17:38</td>\n",
       "      <td>2016-03-31T17:38:00</td>\n",
       "      <td>GOA</td>\n",
       "      <td>500 Block Of 7th St</td>\n",
       "      <td>San Francisco</td>\n",
       "      <td>CA</td>\n",
       "      <td>1</td>\n",
       "      <td>Premise Address</td>\n",
       "    </tr>\n",
       "    <tr>\n",
       "      <th>4</th>\n",
       "      <td>160912811</td>\n",
       "      <td>594</td>\n",
       "      <td>2016-03-31T00:00:00</td>\n",
       "      <td>17:42</td>\n",
       "      <td>2016-03-31T17:42:00</td>\n",
       "      <td>REP</td>\n",
       "      <td>Beale St/bryant St</td>\n",
       "      <td>San Francisco</td>\n",
       "      <td>CA</td>\n",
       "      <td>1</td>\n",
       "      <td>Intersection</td>\n",
       "    </tr>\n",
       "    <tr>\n",
       "      <th>...</th>\n",
       "      <td>...</td>\n",
       "      <td>...</td>\n",
       "      <td>...</td>\n",
       "      <td>...</td>\n",
       "      <td>...</td>\n",
       "      <td>...</td>\n",
       "      <td>...</td>\n",
       "      <td>...</td>\n",
       "      <td>...</td>\n",
       "      <td>...</td>\n",
       "      <td>...</td>\n",
       "    </tr>\n",
       "    <tr>\n",
       "      <th>10046</th>\n",
       "      <td>160964210</td>\n",
       "      <td>Well Being Check</td>\n",
       "      <td>2016-04-05T00:00:00</td>\n",
       "      <td>23:38</td>\n",
       "      <td>2016-04-05T23:38:00</td>\n",
       "      <td>GOA</td>\n",
       "      <td>Hollister Av/hawes St</td>\n",
       "      <td>San Francisco</td>\n",
       "      <td>CA</td>\n",
       "      <td>1</td>\n",
       "      <td>Intersection</td>\n",
       "    </tr>\n",
       "    <tr>\n",
       "      <th>10047</th>\n",
       "      <td>160964216</td>\n",
       "      <td>Traffic Stop</td>\n",
       "      <td>2016-04-05T00:00:00</td>\n",
       "      <td>23:43</td>\n",
       "      <td>2016-04-05T23:43:00</td>\n",
       "      <td>ADV</td>\n",
       "      <td>California St/mason St</td>\n",
       "      <td>San Francisco</td>\n",
       "      <td>CA</td>\n",
       "      <td>1</td>\n",
       "      <td>Intersection</td>\n",
       "    </tr>\n",
       "    <tr>\n",
       "      <th>10048</th>\n",
       "      <td>160964227</td>\n",
       "      <td>Traffic Stop</td>\n",
       "      <td>2016-04-05T00:00:00</td>\n",
       "      <td>23:48</td>\n",
       "      <td>2016-04-05T23:48:00</td>\n",
       "      <td>CIT</td>\n",
       "      <td>Rosella Ct/onondaga Av</td>\n",
       "      <td>San Francisco</td>\n",
       "      <td>CA</td>\n",
       "      <td>1</td>\n",
       "      <td>Intersection</td>\n",
       "    </tr>\n",
       "    <tr>\n",
       "      <th>10049</th>\n",
       "      <td>160964229</td>\n",
       "      <td>Passing Call</td>\n",
       "      <td>2016-04-05T00:00:00</td>\n",
       "      <td>23:48</td>\n",
       "      <td>2016-04-05T23:48:00</td>\n",
       "      <td>ND</td>\n",
       "      <td>0 Blk Herbst Rd</td>\n",
       "      <td>San Francisco</td>\n",
       "      <td>CA</td>\n",
       "      <td>1</td>\n",
       "      <td>Geo-Override</td>\n",
       "    </tr>\n",
       "    <tr>\n",
       "      <th>10050</th>\n",
       "      <td>160964249</td>\n",
       "      <td>Traffic Stop</td>\n",
       "      <td>2016-04-05T00:00:00</td>\n",
       "      <td>23:54</td>\n",
       "      <td>2016-04-05T23:54:00</td>\n",
       "      <td>ADV</td>\n",
       "      <td>Grant Av/geary St</td>\n",
       "      <td>San Francisco</td>\n",
       "      <td>CA</td>\n",
       "      <td>1</td>\n",
       "      <td>Intersection</td>\n",
       "    </tr>\n",
       "  </tbody>\n",
       "</table>\n",
       "<p>10051 rows × 11 columns</p>\n",
       "</div>"
      ],
      "text/plain": [
       "         CrimeId OriginalCrimeTypeName          OffenseDate CallTime  \\\n",
       "0      160903280     Assault / Battery  2016-03-30T00:00:00    18:42   \n",
       "1      160912272    Homeless Complaint  2016-03-31T00:00:00    15:31   \n",
       "2      160912590             Susp Info  2016-03-31T00:00:00    16:49   \n",
       "3      160912801                Report  2016-03-31T00:00:00    17:38   \n",
       "4      160912811                   594  2016-03-31T00:00:00    17:42   \n",
       "...          ...                   ...                  ...      ...   \n",
       "10046  160964210      Well Being Check  2016-04-05T00:00:00    23:38   \n",
       "10047  160964216          Traffic Stop  2016-04-05T00:00:00    23:43   \n",
       "10048  160964227          Traffic Stop  2016-04-05T00:00:00    23:48   \n",
       "10049  160964229          Passing Call  2016-04-05T00:00:00    23:48   \n",
       "10050  160964249          Traffic Stop  2016-04-05T00:00:00    23:54   \n",
       "\n",
       "              CallDateTime Disposition                  Address  \\\n",
       "0      2016-03-30T18:42:00         REP  100 Block Of Chilton Av   \n",
       "1      2016-03-31T15:31:00         GOA  2300 Block Of Market St   \n",
       "2      2016-03-31T16:49:00         GOA  2300 Block Of Market St   \n",
       "3      2016-03-31T17:38:00         GOA      500 Block Of 7th St   \n",
       "4      2016-03-31T17:42:00         REP       Beale St/bryant St   \n",
       "...                    ...         ...                      ...   \n",
       "10046  2016-04-05T23:38:00         GOA    Hollister Av/hawes St   \n",
       "10047  2016-04-05T23:43:00         ADV   California St/mason St   \n",
       "10048  2016-04-05T23:48:00         CIT   Rosella Ct/onondaga Av   \n",
       "10049  2016-04-05T23:48:00          ND          0 Blk Herbst Rd   \n",
       "10050  2016-04-05T23:54:00         ADV        Grant Av/geary St   \n",
       "\n",
       "                City State  AgencyId      AddressType  \n",
       "0      San Francisco    CA         1  Premise Address  \n",
       "1      San Francisco    CA         1  Premise Address  \n",
       "2      San Francisco    CA         1  Premise Address  \n",
       "3      San Francisco    CA         1  Premise Address  \n",
       "4      San Francisco    CA         1     Intersection  \n",
       "...              ...   ...       ...              ...  \n",
       "10046  San Francisco    CA         1     Intersection  \n",
       "10047  San Francisco    CA         1     Intersection  \n",
       "10048  San Francisco    CA         1     Intersection  \n",
       "10049  San Francisco    CA         1     Geo-Override  \n",
       "10050  San Francisco    CA         1     Intersection  \n",
       "\n",
       "[10051 rows x 11 columns]"
      ]
     },
     "execution_count": 34,
     "metadata": {},
     "output_type": "execute_result"
    }
   ],
   "source": [
    "'''Lectura del conjunto de datos JSON'''\n",
    "dfJSON = pd.read_json(\"Criminology_Limpio.json\", orient='records', lines=True)\n",
    "'''Lectura del Conjunto de datos JSON'''\n",
    "dfJSON"
   ]
  },
  {
   "cell_type": "code",
   "execution_count": null,
   "id": "5be4fdf1",
   "metadata": {},
   "outputs": [],
   "source": []
  }
 ],
 "metadata": {
  "kernelspec": {
   "display_name": "Python 3 (ipykernel)",
   "language": "python",
   "name": "python3"
  },
  "language_info": {
   "codemirror_mode": {
    "name": "ipython",
    "version": 3
   },
   "file_extension": ".py",
   "mimetype": "text/x-python",
   "name": "python",
   "nbconvert_exporter": "python",
   "pygments_lexer": "ipython3",
   "version": "3.9.12"
  }
 },
 "nbformat": 4,
 "nbformat_minor": 5
}
